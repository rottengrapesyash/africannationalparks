{
 "cells": [
  {
   "cell_type": "code",
   "execution_count": null,
   "metadata": {},
   "outputs": [],
   "source": [
    "# Import the GeoPandas library for working with geospatial data  \n",
    "import geopandas as gpd  \n",
    "\n",
    "# Load the Africa boundary shapefile into a GeoDataFrame  \n",
    "africa_boundary = gpd.read_file(r\"C:\\Users\\yashk\\Downloads\\Africa_Adm0_Country\\Africa_Adm0_Country.shp\")  \n",
    "\n",
    "# Load the national parks GeoJSON file into another GeoDataFrame  \n",
    "national_parks = gpd.read_file(r\"C:\\Users\\yashk\\Downloads\\africanationalparks\\nature_reserves.geojson\")  \n",
    "\n",
    "# Clip the national parks GeoDataFrame using the Africa boundary GeoDataFrame  \n",
    "# This operation keeps only the parts of the parks that fall within the boundaries of Africa  \n",
    "clipped_parks = gpd.clip(national_parks, africa_boundary)  \n",
    "\n",
    "# Save the clipped parks to a new GeoJSON file  \n",
    "clipped_parks.to_file(r\"C:\\Users\\yashk\\Downloads\\africanationalparks\\clipped_parks1.geojson\", driver=\"GeoJSON\")  \n",
    "\n",
    "# Print out a message indicating the clipping and saving process is complete  \n",
    "print(\"Clipped parks saved as GeoJSON.\")\n"
   ]
  },
  {
   "cell_type": "code",
   "execution_count": null,
   "metadata": {},
   "outputs": [],
   "source": []
  },
  {
   "cell_type": "code",
   "execution_count": null,
   "metadata": {},
   "outputs": [],
   "source": []
  },
  {
   "cell_type": "code",
   "execution_count": null,
   "metadata": {},
   "outputs": [],
   "source": []
  },
  {
   "cell_type": "code",
   "execution_count": null,
   "metadata": {},
   "outputs": [],
   "source": []
  },
  {
   "cell_type": "code",
   "execution_count": null,
   "metadata": {},
   "outputs": [],
   "source": []
  }
 ],
 "metadata": {
  "kernelspec": {
   "display_name": "Python 3",
   "language": "python",
   "name": "python3"
  },
  "language_info": {
   "codemirror_mode": {
    "name": "ipython",
    "version": 3
   },
   "file_extension": ".py",
   "mimetype": "text/x-python",
   "name": "python",
   "nbconvert_exporter": "python",
   "pygments_lexer": "ipython3",
   "version": "3.10.0"
  }
 },
 "nbformat": 4,
 "nbformat_minor": 2
}
